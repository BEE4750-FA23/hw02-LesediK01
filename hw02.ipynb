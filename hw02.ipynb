{
  "cells": [
    {
      "cell_type": "markdown",
      "id": "099fcb9c-ef1f-471e-aa52-990f463fe3c5",
      "metadata": {},
      "source": [
        "# BEE 4750 Homework 2: Dissolved Oxygen\n",
        "\n",
        "**Name**: Lesedi Kgatla\n",
        "\n",
        "**ID**: lk535\n",
        "\n",
        "> **Due Date**\n",
        ">\n",
        "> Friday, 09/22/23, 9:00pm\n",
        "\n",
        "## Overview\n",
        "\n",
        "### Instructions\n",
        "\n",
        "This assignment asks you to use a simulation model for dissolved oxygen\n",
        "to assess the impacts of two wastewater streams, including minimum\n",
        "treatment levels and the impact of uncertain environmental conditions.\n",
        "You will also be asked to identify a minimum distance for the addition\n",
        "of a third discharge stream.\n",
        "\n",
        "### Load Environment\n",
        "\n",
        "The following code loads the environment and makes sure all needed\n",
        "packages are installed. This should be at the start of most Julia\n",
        "scripts."
      ]
    },
    {
      "cell_type": "code",
      "execution_count": 1,
      "id": "395abf3d",
      "metadata": {},
      "outputs": [
        {
          "name": "stderr",
          "output_type": "stream",
          "text": [
            "\u001b[32m\u001b[1m  Activating\u001b[22m\u001b[39m project at `c:\\Users\\lk535\\Desktop\\Classes\\BEE 4750\\Homeworks\\hw02 - LesediK01\\hw02-LesediK01`\n"
          ]
        },
        {
          "name": "stderr",
          "output_type": "stream",
          "text": [
            "\u001b[32m\u001b[1m   Installed\u001b[22m\u001b[39m HypergeometricFunctions ─ v0.3.21\n"
          ]
        },
        {
          "name": "stderr",
          "output_type": "stream",
          "text": [
            "\u001b[32m\u001b[1m   Installed\u001b[22m\u001b[39m FillArrays ────────────── v1.4.1\n"
          ]
        },
        {
          "name": "stderr",
          "output_type": "stream",
          "text": [
            "\u001b[32m\u001b[1m   Installed\u001b[22m\u001b[39m Distributions ─────────── v0.25.98\n"
          ]
        },
        {
          "name": "stderr",
          "output_type": "stream",
          "text": [
            "\u001b[32m\u001b[1mPrecompiling\u001b[22m\u001b[39m"
          ]
        },
        {
          "name": "stderr",
          "output_type": "stream",
          "text": [
            " project..."
          ]
        },
        {
          "name": "stderr",
          "output_type": "stream",
          "text": [
            "\n"
          ]
        },
        {
          "name": "stderr",
          "output_type": "stream",
          "text": [
            "\u001b[32m  ✓ \u001b[39m\u001b[90mRmath_jll\u001b[39m\n"
          ]
        },
        {
          "name": "stderr",
          "output_type": "stream",
          "text": [
            "\u001b[32m  ✓ \u001b[39m\u001b[90mFillArrays\u001b[39m\n"
          ]
        },
        {
          "name": "stderr",
          "output_type": "stream",
          "text": [
            "\u001b[32m  ✓ \u001b[39m\u001b[90mQuadGK\u001b[39m\n"
          ]
        },
        {
          "name": "stderr",
          "output_type": "stream",
          "text": [
            "\u001b[32m  ✓ \u001b[39m\u001b[90mDualNumbers\u001b[39m\n"
          ]
        },
        {
          "name": "stderr",
          "output_type": "stream",
          "text": [
            "\u001b[32m  ✓ \u001b[39m\u001b[90mRmath\u001b[39m\n"
          ]
        },
        {
          "name": "stderr",
          "output_type": "stream",
          "text": [
            "\u001b[32m  ✓ \u001b[39m\u001b[90mHypergeometricFunctions\u001b[39m\n"
          ]
        },
        {
          "name": "stderr",
          "output_type": "stream",
          "text": [
            "\u001b[32m  ✓ \u001b[39m\u001b[90mStatsFuns\u001b[39m\n"
          ]
        },
        {
          "name": "stderr",
          "output_type": "stream",
          "text": [
            "\u001b[32m  ✓ \u001b[39mDistributions\n",
            "  8 dependencies successfully precompiled in 13 seconds. 142 already precompiled.\n"
          ]
        }
      ],
      "source": [
        "import Pkg\n",
        "Pkg.activate(@__DIR__)\n",
        "Pkg.instantiate()"
      ]
    },
    {
      "cell_type": "code",
      "execution_count": 2,
      "id": "26328b47",
      "metadata": {},
      "outputs": [],
      "source": [
        "using Plots\n",
        "using LaTeXStrings\n",
        "using Distributions"
      ]
    },
    {
      "cell_type": "markdown",
      "id": "b14f7dd1-d84b-42e3-bfb5-5fe12e7ac523",
      "metadata": {},
      "source": [
        "## Problems (Total: 40 Points)\n",
        "\n",
        "A river which flows at 6 km/d is receiving waste discharges from two\n",
        "sources which are 15 km apart, as shown in\n",
        "<a href=\"#fig-river\" class=\"quarto-xref\">Figure 1</a>. The oxygen\n",
        "reaeration rate is 0.55 day<sup>-1</sup>, and the decay rates of CBOD\n",
        "and NBOD are are 0.55 and 0.25 day<sup>-1</sup>, respectively. The\n",
        "river’s saturated dissolved oxygen concentration is 10m g/L.\n",
        "\n",
        "![Figure 1: Schematic of the\n",
        "system](attachment:figures/river_diagram.png)"
      ]
    },
    {
      "cell_type": "markdown",
      "id": "8d9711cb-a201-4f24-8e47-91e8e4670a63",
      "metadata": {},
      "source": [
        "### Problem 1 (8 points)\n",
        "\n",
        "If the characteristics of the river inflow and waste discharges are\n",
        "given in <a href=\"#tbl-river\" class=\"quarto-xref\">Table 1</a>, write a\n",
        "Julia model to compute the dissolved oxygen concentration from the first\n",
        "wastewater discharge to an arbitrary distance `d` km downstream. Use\n",
        "your model to compute the maximum dissolved oxygen concentration up to\n",
        "50km downstream and how far downriver this maximum occurs.\n",
        "\n",
        "|    Parameter     |            River Inflow |         Waste Stream 1 |         Waste Stream 2 |\n",
        "|:----------------:|------------------------:|-----------------------:|-----------------------:|\n",
        "|      Inflow      | 100,000 m<sup>3</sup>/d | 10,000 m<sup>3</sup>/d | 15,000 m<sup>3</sup>/d |\n",
        "| DO Concentration |                7.5 mg/L |                 5 mg/L |                 5 mg/L |\n",
        "|       CBOD       |                  5 mg/L |                50 mg/L |                45 mg/L |\n",
        "|       NBOD       |                  5 mg/L |                35 mg/L |                35 mg/L |\n",
        "\n",
        "Table 1: River inflow and waste stream characteristics for Problem 1."
      ]
    },
    {
      "cell_type": "code",
      "execution_count": 1,
      "id": "4161341d",
      "metadata": {},
      "outputs": [
        {
          "data": {
            "text/plain": [
              "DO (generic function with 1 method)"
            ]
          },
          "metadata": {},
          "output_type": "display_data"
        }
      ],
      "source": [
        "#compute DO concentration at a given distance\n",
        "function DO(x, Ci, BO_ws1, BO_ws2, NO_ws1, NO_ws2, U, kc, kn, ka, Cs)\n",
        "    #parameters\n",
        "    U = 6  # (km/d)\n",
        "    kc = 0.35  # (d^-1)\n",
        "    kn = 0.25  # (d^-1)\n",
        "    ka = 0.55  # (d^-1)\n",
        "    Cs = 10.0  # mg/L\n",
        "\n",
        "    #Initialize  initial values from River Inflow\n",
        "    Ci = 7.5  # mg/L\n",
        "    Bi = 5  # mg/L\n",
        "    Ni = 5  # mg/L\n",
        "\n",
        "    CO = ((Ci * 100000) + (5 * 10000)) / 110000\n",
        "    BO = ((Bi * 100000) + (50 * 10000)) / 110000\n",
        "    NO = ((Ni * 100000) + (35 * 10000)) / 110000\n",
        "\n",
        "    #modular function to calculate DO conc. \n",
        "    function Compute_DO(x, CO, BO, NO)\n",
        "        α1 = exp(-ka * x / U)\n",
        "        α2 = (kc / (ka - kc)) * (exp(-kc * x / U) - exp(-ka * x / U))\n",
        "        α3 = (kn / (ka - kn)) * (exp(-kn * x / U) - exp(-ka * x / U))\n",
        "        C = Cs * (1 - α1) + (CO * α1) - (BO * α2) - (NO * α3)\n",
        "        return C\n",
        "    end\n",
        "\n",
        "    #Update for iterations based on the waste stream encountered\n",
        "    if (x > 0.0) && (x <= 15.0)  # the region affected by Waste Stream 1\n",
        "        C = Compute_DO(x, CO, BO, NO)\n",
        "    elseif x > 15.0  # After Waste Stream 1 and within the region affected by Waste Stream 2\n",
        "        α1 = exp(-ka * (x-15) / U) #where x applies, distance has been adjusted to x-15\n",
        "        α2 = (kc / (ka - kc)) * (exp(-kc * (x-15) / U) - exp(-ka * (x-15) / U))\n",
        "        α3 = (kn / (ka - kn)) * (exp(-kn * (x-15) / U) - exp(-ka * (x-15) / U))\n",
        "        C_15 = Cs * (1 - α1) + (CO * α1) - (BO * α2) - (NO * α3)\n",
        "\n",
        "        CO_mix1 = ((C_15 * 110000) + (5 * 15000)) / 125000\n",
        "        BO_mix1 = ((BO * exp(-kc * (x-15) / U)) * 110000 + (45 * 15000)) / 125000\n",
        "        NO_mix1 = ((NO * exp(-kn * (x-15) / U)) *110000 + (35 * 15000)) / 125000\n",
        "        C = Compute_DO(x - 15, CO_mix1, BO_mix1, NO_mix1)\n",
        "    return C\n",
        "    end\n",
        "end\n"
      ]
    },
    {
      "cell_type": "code",
      "execution_count": 3,
      "id": "1715d1e0",
      "metadata": {},
      "outputs": [
        {
          "name": "stdout",
          "output_type": "stream",
          "text": [
            "(min_DO, min_d) = ((8.458327259164628, 1), 0.0)\n"
          ]
        },
        {
          "data": {
            "text/plain": [
              "((8.458327259164628, 1), 0.0)"
            ]
          },
          "metadata": {},
          "output_type": "display_data"
        }
      ],
      "source": [
        "x = collect(0:0.1:50.0)\n",
        "DO_values = [] #empty array to store DO values\n",
        "for i in length(x)\n",
        "    C = DO(x[i], 7.5, 50, 45, 35, 35, 6, 0.35, 0.25, 0.55, 10)\n",
        "    append!(DO_values, C)\n",
        "end\n",
        "\n",
        "#find element for the minimum DO and the index for the distance \n",
        "min_DO = findmin(DO_values) \n",
        "min_d = x[min_DO[2]]\n",
        "\n",
        "# Display minimum DO and its distance\n",
        "@show min_DO, min_d\n"
      ]
    },
    {
      "cell_type": "markdown",
      "id": "0e93c34c-09f5-48d5-98af-15674255cfed",
      "metadata": {},
      "source": [
        "### Problem 2 (4 points)\n",
        "\n",
        "Use your model to plot the dissolved oxygen concentration in the river\n",
        "from the first waste stream to 50km downstream. What do you notice?"
      ]
    },
    {
      "cell_type": "code",
      "execution_count": 3,
      "id": "bd2cb780",
      "metadata": {},
      "outputs": [
        {
          "ename": "UndefVarError",
          "evalue": "UndefVarError: `x` not defined",
          "output_type": "error",
          "traceback": [
            "UndefVarError: `x` not defined\n",
            "\n",
            "Stacktrace:\n",
            " [1] top-level scope\n",
            "   @ c:\\Users\\lk535\\Desktop\\Classes\\BEE 4750\\Homeworks\\hw02 - LesediK01\\hw02-LesediK01\\hw02.ipynb:1"
          ]
        }
      ],
      "source": [
        "plot(x, DO_values, xlabel = \"Distance (km)\", ylabel = \"DO (mg/L)\", title = \"[Dissolved Oxygen] Concentration in River\", label =\"[DO]\")"
      ]
    },
    {
      "cell_type": "markdown",
      "id": "6d098b0d-5a16-4711-8926-d63cad06a894",
      "metadata": {},
      "source": [
        "### Problem 3 (3 points)\n",
        "\n",
        "Under the assumptions of Problem 1, determine the distance from waste\n",
        "stream 2 it will take for the dissolved oxygen concentration of the\n",
        "river to recover to 6 mg/L."
      ]
    },
    {
      "cell_type": "code",
      "execution_count": 9,
      "id": "502a203e",
      "metadata": {},
      "outputs": [
        {
          "name": "stdout",
          "output_type": "stream",
          "text": [
            "Distance where DO concentration of the river recovers to 6 mg/L is 0 from waste stream 2\n"
          ]
        }
      ],
      "source": [
        "#updated initial values from a distance of 15km \n",
        "x = 15\n",
        "C = DO(x, 7.5, 50, 45, 35, 35, 6, 0.35, 0.25, 0.55, 10)\n",
        "\n",
        "#Compute distance where DO concentration recovers to 6 mg/L after Waste Stream 2\n",
        "step = 0.1\n",
        "DO_target = 6.0\n",
        "while Dissolved_O < DO_target\n",
        "    C = DO(x, 7.5, 50, 45, 35, 35, 6, 0.35, 0.25, 0.55, 10)\n",
        "    x += step\n",
        "end \n",
        "return x\n",
        "\n",
        "distance = x - 15\n",
        "println(\"Distance where DO concentration of the river recovers to 6 mg/L is \", distance, \" from waste stream 2\")"
      ]
    },
    {
      "cell_type": "markdown",
      "id": "ad5cdcb4-dbf9-4d56-bf03-12c2c4ca2de4",
      "metadata": {},
      "source": [
        "### Problem 4 (5 points)\n",
        "\n",
        "What is the minimum level of treatment (% removal of organic waste) for\n",
        "waste stream 2 that will ensure that the dissolved oxygen concentration\n",
        "never drops below 4 mg/L, assuming that waste stream 1 remains\n",
        "untreated?"
      ]
    },
    {
      "cell_type": "code",
      "execution_count": 14,
      "id": "f88845d3",
      "metadata": {},
      "outputs": [
        {
          "ename": "MethodError",
          "evalue": "MethodError: no method matching isless(::Tuple{Float64, Int64}, ::Int64)\n\nClosest candidates are:\n  isless(!Matched::Union{StatsBase.PValue, StatsBase.TestStat}, ::Real)\n   @ StatsBase C:\\Users\\lk535\\.julia\\packages\\StatsBase\\iMkPf\\src\\statmodels.jl:90\n  isless(!Matched::DualNumbers.Dual{<:Real}, ::Real)\n   @ DualNumbers C:\\Users\\lk535\\.julia\\packages\\DualNumbers\\5knFX\\src\\dual.jl:183\n  isless(!Matched::AbstractGray, ::Real)\n   @ ColorTypes C:\\Users\\lk535\\.julia\\packages\\ColorTypes\\1dGw6\\src\\operations.jl:38\n  ...\n",
          "output_type": "error",
          "traceback": [
            "MethodError: no method matching isless(::Tuple{Float64, Int64}, ::Int64)\n",
            "\n",
            "Closest candidates are:\n",
            "  isless(!Matched::Union{StatsBase.PValue, StatsBase.TestStat}, ::Real)\n",
            "   @ StatsBase C:\\Users\\lk535\\.julia\\packages\\StatsBase\\iMkPf\\src\\statmodels.jl:90\n",
            "  isless(!Matched::DualNumbers.Dual{<:Real}, ::Real)\n",
            "   @ DualNumbers C:\\Users\\lk535\\.julia\\packages\\DualNumbers\\5knFX\\src\\dual.jl:183\n",
            "  isless(!Matched::AbstractGray, ::Real)\n",
            "   @ ColorTypes C:\\Users\\lk535\\.julia\\packages\\ColorTypes\\1dGw6\\src\\operations.jl:38\n",
            "  ...\n",
            "\n",
            "\n",
            "Stacktrace:\n",
            " [1] <(x::Tuple{Float64, Int64}, y::Int64)\n",
            "   @ Base .\\operators.jl:343\n",
            " [2] top-level scope\n",
            "   @ c:\\Users\\lk535\\Desktop\\Classes\\BEE 4750\\Homeworks\\hw02 - LesediK01\\hw02-LesediK01\\hw02.ipynb:10"
          ]
        }
      ],
      "source": [
        "#Since the minimum level of treatment is a known variable, this can be used to determine the minimum level of treatment which will act as the constraint used to infer DO  \n",
        "\n",
        "#initialize variables \n",
        "treatment = 0.0\n",
        "DO_target = 4\n",
        "step = 0.1\n",
        "BO_w2_treated = 45.0 * (1 - treatment / 100)\n",
        "NO_w2_treated = 35.0 * (1 - treatment / 100) #Assumed NO is treated at the same percentage\n",
        "\n",
        "while min_DO < DO_target\n",
        "    treatment += step #iteratively increase treatment by a step until the condition of the min_DO is greater than 4 mg/L is satisfied \n",
        "    min_DO = DO(min_d, 7.5, 50, BO_w2_treated, 35, NO_w2_treated, 6, 0.35, 0.25, 0.55, 10)\n",
        "end\n",
        "treatment_percentage = treatment * 100\n",
        "\n",
        "#Compute the new DO applying the same principles from Problem 1\n",
        "x = collect(0:0.1:50.0)\n",
        "DO_v2 = [] #empty array to store the new DO values\n",
        "\n",
        "for i in length(x)\n",
        "    C = DO(x[i], 7.5, 50, BO_w2_treated, 35, NO_w2_treated, 6, 0.35, 0.25, 0.55, 10)\n",
        "    append!(DO_v2, C)\n",
        "end\n",
        "\n",
        "#find element for the minimum DO and the index for the distance \n",
        "min_DO = findmin(DO_v2) \n",
        "min_d = x[min_DO[2]]\n",
        "\n",
        "# Display minimum DO, its distance, and the minimum level of treatment (%)\n",
        "@show min_DO, min_d, treatment_percentage"
      ]
    },
    {
      "cell_type": "markdown",
      "id": "75a4d521-4a8e-49bd-9ddd-e3a04e545145",
      "metadata": {},
      "source": [
        "### Problem 5 (5 points)\n",
        "\n",
        "If both waste streams are treated equally, what is the minimum level of\n",
        "treatment (% removal of organic waste) for the two sources required to\n",
        "ensure that the dissolved oxygen concentration never drops below 4 mg/L?"
      ]
    },
    {
      "cell_type": "code",
      "execution_count": 18,
      "id": "a531cfef",
      "metadata": {},
      "outputs": [
        {
          "ename": "MethodError",
          "evalue": "MethodError: no method matching isless(::Tuple{Float64, Int64}, ::Int64)\n\nClosest candidates are:\n  isless(!Matched::Union{StatsBase.PValue, StatsBase.TestStat}, ::Real)\n   @ StatsBase C:\\Users\\lk535\\.julia\\packages\\StatsBase\\iMkPf\\src\\statmodels.jl:90\n  isless(!Matched::DualNumbers.Dual{<:Real}, ::Real)\n   @ DualNumbers C:\\Users\\lk535\\.julia\\packages\\DualNumbers\\5knFX\\src\\dual.jl:183\n  isless(!Matched::AbstractGray, ::Real)\n   @ ColorTypes C:\\Users\\lk535\\.julia\\packages\\ColorTypes\\1dGw6\\src\\operations.jl:38\n  ...\n",
          "output_type": "error",
          "traceback": [
            "MethodError: no method matching isless(::Tuple{Float64, Int64}, ::Int64)\n",
            "\n",
            "Closest candidates are:\n",
            "  isless(!Matched::Union{StatsBase.PValue, StatsBase.TestStat}, ::Real)\n",
            "   @ StatsBase C:\\Users\\lk535\\.julia\\packages\\StatsBase\\iMkPf\\src\\statmodels.jl:90\n",
            "  isless(!Matched::DualNumbers.Dual{<:Real}, ::Real)\n",
            "   @ DualNumbers C:\\Users\\lk535\\.julia\\packages\\DualNumbers\\5knFX\\src\\dual.jl:183\n",
            "  isless(!Matched::AbstractGray, ::Real)\n",
            "   @ ColorTypes C:\\Users\\lk535\\.julia\\packages\\ColorTypes\\1dGw6\\src\\operations.jl:38\n",
            "  ...\n",
            "\n",
            "\n",
            "Stacktrace:\n",
            " [1] <(x::Tuple{Float64, Int64}, y::Int64)\n",
            "   @ Base .\\operators.jl:343\n",
            " [2] top-level scope\n",
            "   @ c:\\Users\\lk535\\Desktop\\Classes\\BEE 4750\\Homeworks\\hw02 - LesediK01\\hw02-LesediK01\\hw02.ipynb:12"
          ]
        }
      ],
      "source": [
        "# Find minimum treatment percentage to ensure DO does not drop below 4 mg/L for both waste streams\n",
        "\n",
        "#initialize variables \n",
        "treatment = 0.0\n",
        "DO_target = 4\n",
        "step = 0.1\n",
        "CO_w1_treated = 50.0 * (1 - treatment)\n",
        "NO_w1_treated = 35.0 * (1 - treatment) #Assumed NO is treated at the same percentage\n",
        "BO_w2_treated = 45.0 * (1 - treatment)\n",
        "NO_w2_treated = 35.0 * (1 - treatment) #Assumed NO is treated at the same percentage\n",
        "\n",
        "while min_DO < DO_target\n",
        "    treatment += step #iteratively increase treatment by a step until the condition of the min_DO is greater than 4 mg/L is satisfied \n",
        "    min_DO = DO(min_d, 7.5, 50, BO_w2_treated, NO_w1_treated, BO_w2_treated, NO_w2_treated, 6, 0.25, 0.55, 10)\n",
        "end\n",
        "treatment_percentage = treatment * 100\n",
        "\n",
        "#Compute the new DO applying the same principles from Problem 1\n",
        "x = collect(0:0.1:50.0)\n",
        "DO_v2 = [] #empty array to store the new DO values\n",
        "\n",
        "for i in length(x)\n",
        "    C = DO(x[i], 7.5, 50, BO_w2_treated, NO_w1_treated, BO_w2_treated, NO_w2_treated, 6, 0.25, 0.55, 10)\n",
        "    append!(DO_v2, C)\n",
        "end\n",
        "\n",
        "#find element for the minimum DO and the index for the distance \n",
        "min_DO = findmin(DO_v2) \n",
        "min_d = x[min_DO[2]]\n",
        "\n",
        "# Display minimum DO, its distance, and the minimum level of treatment (%)\n",
        "@show min_DO, min_d, treatment_percentage"
      ]
    },
    {
      "cell_type": "markdown",
      "id": "a31a496a-35d5-42e2-be89-35bd93269b75",
      "metadata": {},
      "source": [
        "### Problem 6 (5 points)\n",
        "\n",
        "Suppose you are responsible for designing a waste treatment plan for\n",
        "discharges into the river, with a regulatory mandate to keep the\n",
        "dissolved oxygen concentration above 4 mg/L. Discuss whether you’d opt\n",
        "to treat waste stream 2 alone or both waste streams equally. What other\n",
        "information might you need to make a conclusion, if any?"
      ]
    },
    {
      "cell_type": "markdown",
      "id": "1568f7e4",
      "metadata": {},
      "source": [
        "Given consideration, I would opt to treat both waste streams equally. This is because in practice, it would be more efficient and cost-effective to treat a smaller volume of waste more intensively than to treat a larger volume less intensively. Dual treatment would also result in reduced organic loads from both waste sources, resulting in a secondary environmental benefit most likely favourable to the river's ecosystem. In tandem, a dual treatment system also offers a redundancy that provides relability of treatment in the event of a failure in treating one stream. \n",
        "\n",
        "A combination of technical, economic, and socio-environmental factors would have to be provided as additional information since inter-variable trade offs are likely to arise, thus impacting decison making. These include extensive cost analyses for the waste treatment plan, an evaluation or review of the efficacy and scalability of the technology deployed in the waste treatment plan - this would be favourable in future proofing the capacity of the waste treatment plan in the likely event of increased organic loads from the waste streams. In addition, input from stakeholders as this will give insight to the concerns pertaining to the ecological services of interest from the river ecosystem, which may be evidenced to be impacted by the waste discharge activity."
      ]
    },
    {
      "cell_type": "markdown",
      "id": "87aecc56-2578-4e19-8ccb-065895c5dd3f",
      "metadata": {},
      "source": [
        "### Problem 7 (5 points)\n",
        "\n",
        "Suppose that it is known that the DO concentrations at the river inflow\n",
        "can vary uniformly between 6 mg/L and 8 mg/L. How often will the\n",
        "treatment plan identified in Problem 5 (both waste streams treated\n",
        "equally) fail to comply with the regulatory standard?"
      ]
    },
    {
      "cell_type": "code",
      "execution_count": 22,
      "id": "3cc61dec",
      "metadata": {},
      "outputs": [
        {
          "ename": "UndefVarError",
          "evalue": "UndefVarError: `Random` not defined",
          "output_type": "error",
          "traceback": [
            "UndefVarError: `Random` not defined\n",
            "\n",
            "Stacktrace:\n",
            " [1] top-level scope\n",
            "   @ c:\\Users\\lk535\\Desktop\\Classes\\BEE 4750\\Homeworks\\hw02 - LesediK01\\hw02-LesediK01\\hw02.ipynb:2"
          ]
        }
      ],
      "source": [
        "#Compute function using monte_carlo_simulation \n",
        "Random.seed!(10)\n",
        "\n",
        "function P5_feed(treatment_level, Ci)\n",
        "    #initialize variables \n",
        "    treatment = 0.0\n",
        "    DO_target = 4\n",
        "    step = 0.1\n",
        "    CO_w1_treated = 50.0 * (1 - treatment)\n",
        "    NO_w1_treated = 35.0 * (1 - treatment) #Assumed NO is treated at the same percentage\n",
        "    BO_w2_treated = 45.0 * (1 - treatment)\n",
        "    NO_w2_treated = 35.0 * (1 - treatment) #Assumed NO is treated at the same percentage\n",
        "\n",
        "    while min_DO < DO_target\n",
        "        treatment += step #iteratively increase treatment by a step until the condition of the min_DO is greater than 4 mg/L is satisfied \n",
        "        min_DO = DO(min_d, 7.5, 50, BO_w2_treated, NO_w1_treated, BO_w2_treated, NO_w2_treated, 6, 0.25, 0.55, 10)\n",
        "    end\n",
        "    treatment_percentage = treatment * 100\n",
        "\n",
        "    #Compute the new DO applying the same principles from Problem 1\n",
        "    x = collect(0:0.1:50.0)\n",
        "    DO_v2 = [] #empty array to store the new DO values\n",
        "\n",
        "    for i in length(x)\n",
        "        C = DO(x[i], 7.5, 50, BO_w2_treated, NO_w1_treated, BO_w2_treated, NO_w2_treated, 6, 0.25, 0.55, 10)\n",
        "        append!(DO_v2, C)\n",
        "    end\n",
        "    return min_DO\n",
        "end\n",
        "\n",
        "for trial in 1:trials\n",
        "    sample = 6 + (2*rand()) #randomly sample DO concentration from uniform distribution between 6 and 8 mg/L\n",
        "        #Simulate with the sample and the treatment level\n",
        "        min_DO = P5_feed(treatment, Ci)\n",
        "\n",
        "        #Check for failure\n",
        "        if min_DO < 4.0\n",
        "            failures += 1\n",
        "        end\n",
        "    end\n",
        "    failure_rate = failures / trials\n",
        "    return failure_rate\n",
        "end\n",
        "\n",
        "#Run imulation\n",
        "trials = 10000  # Choose an appropriate number for desired accuracy\n",
        "P5_treatment = P5_feed()\n",
        "failure_rate = monte_carlo_simulation(trials, P5_feed)\n",
        "\n",
        "@show (failure_rate * 100)"
      ]
    },
    {
      "cell_type": "markdown",
      "id": "049f84b1-c21c-4539-83e8-ea8a441d18d1",
      "metadata": {},
      "source": [
        "### Problem 8 (5 points)\n",
        "\n",
        "A factory is planning a third wastewater discharge into the river\n",
        "downstream of the second plant. This discharge would consist of 5\n",
        "m<sup>3</sup>/day of wastewater with a dissolved oxygen content of 4.5\n",
        "mg/L and CBOD and NBOD levels of 50 and 45 mg/L, respectively.\n",
        "\n",
        "Assume that the treatment plan you identified in Problem 5 is still in\n",
        "place for the existing discharges. If the third discharge will not be\n",
        "treated, under the original inflow conditions (7.5 mg/L DO), how far\n",
        "downstream from the second discharge does this third discharge need to\n",
        "be placed to keep the river concentration from dropping below 4 mg/L?"
      ]
    },
    {
      "cell_type": "code",
      "execution_count": 23,
      "id": "306f8727",
      "metadata": {},
      "outputs": [
        {
          "ename": "MethodError",
          "evalue": "MethodError: no method matching DO(::Float64, ::Float64, ::Float64, ::Float64, ::Float64, ::Float64, ::Float64, ::Int64, ::Int64, ::Int64, ::Float64, ::Float64, ::Int64)\n\nClosest candidates are:\n  DO(::Any, ::Any, ::Any, ::Any, ::Any, ::Any, ::Any, ::Any, ::Any, ::Any, ::Any)\n   @ Main c:\\Users\\lk535\\Desktop\\Classes\\BEE 4750\\Homeworks\\hw02 - LesediK01\\hw02-LesediK01\\hw02.ipynb:2\n  DO(::Any, ::Any, ::Any, ::Any)\n   @ Main c:\\Users\\lk535\\Desktop\\Classes\\BEE 4750\\Homeworks\\hw02 - LesediK01\\hw02-LesediK01\\hw02.ipynb:8\n",
          "output_type": "error",
          "traceback": [
            "MethodError: no method matching DO(::Float64, ::Float64, ::Float64, ::Float64, ::Float64, ::Float64, ::Float64, ::Int64, ::Int64, ::Int64, ::Float64, ::Float64, ::Int64)\n",
            "\n",
            "Closest candidates are:\n",
            "  DO(::Any, ::Any, ::Any, ::Any, ::Any, ::Any, ::Any, ::Any, ::Any, ::Any, ::Any)\n",
            "   @ Main c:\\Users\\lk535\\Desktop\\Classes\\BEE 4750\\Homeworks\\hw02 - LesediK01\\hw02-LesediK01\\hw02.ipynb:2\n",
            "  DO(::Any, ::Any, ::Any, ::Any)\n",
            "   @ Main c:\\Users\\lk535\\Desktop\\Classes\\BEE 4750\\Homeworks\\hw02 - LesediK01\\hw02-LesediK01\\hw02.ipynb:8\n",
            "\n",
            "\n",
            "Stacktrace:\n",
            " [1] top-level scope\n",
            "   @ c:\\Users\\lk535\\Desktop\\Classes\\BEE 4750\\Homeworks\\hw02 - LesediK01\\hw02-LesediK01\\hw02.ipynb:39"
          ]
        }
      ],
      "source": [
        "#Initialize parameters\n",
        "U = 6  # (km/d)\n",
        "kc = 0.35  # (d^-1)\n",
        "kn = 0.25  # (d^-1)\n",
        "ka = 0.55  # (d^-1)\n",
        "Cs = 10.0  # mg/L\n",
        "\n",
        "#Initialize inflows\n",
        "Ci = 7.5  # mg/L\n",
        "Bi = 5  # mg/L\n",
        "Ni = 5  # mg/L\n",
        "\n",
        "BO_w1_treated = 50.0 * (1 - treatment)\n",
        "NO_w1_treated = 35.0 * (1 - treatment)\n",
        "BO_w2_treated = 45.0 * (1 - treatment)\n",
        "NO_w2_treated = 35.0 * (1 - treatment)\n",
        "\n",
        "function DO_3(x, Ci, BO_w1_treated, NO_w1_treated, BO_w2_treated, NO_w2_treated, w3_Ci, BO_ws3, NO_ws3, U, kc, kn, ka, Cs)\n",
        "    CO = ((Ci * 100000) + (5 * 10000)) / 110000\n",
        "    BO = ((Bi * 100000) + (50 * 10000)) / 110000\n",
        "    NO = ((Ni * 100000) + (35 * 10000)) / 110000\n",
        "\n",
        "    x3 = x - 15\n",
        "\n",
        "    α1 = exp(-ka * x3 / U)\n",
        "    α2 = (kc / (ka - kc)) * (exp(-kc * x3 / U) - exp(-ka * x3 / U))\n",
        "    α3 = (kn / (ka - kn)) * (exp(-kn * x3 / U) - exp(-ka * x3 / U))\n",
        "    \n",
        "    CO_mix = ((DO(x, 7.5, 50, BO_w2_treated, NO_w1_treated, BO_w2_treated, NO_w2_treated, 6, 0.25, 0.55, 10) * 110000) + (5 * 15000)) / 125000\n",
        "    BO_mix = ((BO * exp(-kc * x / U)) * 125000 + (45 * 15000)) / 130000\n",
        "    NO_mix = ((NO * exp(-kn * x / U)) *125000 + (35 * 15000)) / 130000\n",
        "    C = Cs * (1 - α1) + (CO_mix * α1) - (BO_mix * α2) - (NO_mix * α3)\n",
        "    return C\n",
        "end\n",
        "\n",
        "x = collect(0:0.1:15.0)\n",
        "DO_values1 = [] #empty array to store DO values\n",
        "for i in length(x)\n",
        "    C = DO(x[i], 7.5, (50.0 * (1 - treatment)), (35.0 * (1 - treatment)), (45.0 * (1 - treatment)), (35.0 * (1 - treatment)), 4.5, 50, 45, 6, 0.25, 0.55, 10)\n",
        "    append!(DO_values1, C)\n",
        "end\n",
        "\n",
        "x = collect(15.01:0.1:100)\n",
        "DO_values2 = [] #empty array to store DO values\n",
        "for i in length(x)\n",
        "    C = DO(x[i], 7.5, (50.0 * (1 - treatment)), (35.0 * (1 - treatment)), (45.0 * (1 - treatment)), (35.0 * (1 - treatment)), 4.5, 50, 45, 6, 0.25, 0.55, 10)\n",
        "    append!(DO_values2, C)\n",
        "end\n",
        "\n",
        "x = collect(0:0.1:100)\n",
        "DO_aggr = vcat(DO_values1, DO_values2)\n",
        "\n",
        "plot(x, DO_aggr, xlabel = \"Distance downsteam (km)\", ylabel = \"DO (mg/L)\", title = \"[Dissolved Oxygen] Concentration in River\", label =\"[DO]\")\n"
      ]
    },
    {
      "cell_type": "markdown",
      "id": "beaf7155-2b73-4559-a2d2-b41e2eb1e1de",
      "metadata": {},
      "source": [
        "## References\n",
        "\n",
        "List any external references consulted, including classmates."
      ]
    },
    {
      "cell_type": "markdown",
      "id": "0d641cc7",
      "metadata": {},
      "source": [
        "Consulted with Akshara and Christine \n",
        "\n",
        "GeeksforGeeks. 2021. Getting an array of all items of a collection in Julia – collect() Method (online) https://www.geeksforgeeks.org/getting-an-array-of-all-items-of-a-collection-in-julia-collect-method/\n",
        "\n",
        "GeeksforGeeks. 2021. Getting minimum element along with its index in Julia – findmin() Method (online) https://www.geeksforgeeks.org/getting-minimum-element-along-with-its-index-in-julia-findmin-method/ \n",
        "\n",
        "GeeksforGeeks. 2020. Concatenation of arrays in Julia – cat(), vcat(), hcat() and hvcat() Methods (online) https://www.geeksforgeeks.org/concatenation-of-arrays-in-julia-cat-vcat-hcat-and-hvcat-methods/\n",
        "\n",
        "Julia DataFrames. n.d. Functions https://dataframes.juliadata.org/stable/lib/functions/#Base.vcat\n",
        "\n",
        "StackOverFlow. 2022. Append! vs Push! in Julia. (online) https://stackoverflow.com/questions/72916749/append-vs-push-in-julia#:~:text=About%20push!%2C%20the%20doc%20says,of%20another%20collection%20to%20it.%22\n",
        "\n",
        "StackOverFlow. 2016. Concatenating arrays in Julia (online) https://stackoverflow.com/questions/39586830/concatenating-arrays-in-julia\n",
        "\n",
        "StackOverFlow. 2017. Using increments in for loop (online) https://stackoverflow.com/questions/45494129/using-increments-in-a-for-loop"
      ]
    }
  ],
  "metadata": {
    "kernelspec": {
      "display_name": "Julia 1.9.2",
      "language": "julia",
      "name": "julia-1.9"
    },
    "language_info": {
      "file_extension": ".jl",
      "mimetype": "application/julia",
      "name": "julia",
      "version": "1.9.2"
    }
  },
  "nbformat": 4,
  "nbformat_minor": 5
}
